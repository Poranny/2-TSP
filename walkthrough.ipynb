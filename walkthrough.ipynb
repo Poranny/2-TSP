{
 "cells": [
  {
   "metadata": {},
   "cell_type": "code",
   "outputs": [],
   "execution_count": null,
   "source": [
    "from two_tsp.utils.loader import load_instance\n",
    "from two_tsp.core.helpers import compute_distance_matrix, cycles_cost\n",
    "from two_tsp.core.evolutionary import hae\n",
    "from two_tsp.core.local_search_optimized import local_search_with_move_list\n",
    "from two_tsp.utils.present import plot_solutions"
   ],
   "id": "d4f13bb22c7af26b"
  },
  {
   "metadata": {},
   "cell_type": "code",
   "outputs": [],
   "execution_count": null,
   "source": [
    "tsp_file_name = \"instances/kro/kroA100.tsp\"\n",
    "coords      = load_instance(tsp_file_name)\n",
    "dist_matrix = compute_distance_matrix(coords)"
   ],
   "id": "8ce01e0588135877"
  },
  {
   "metadata": {},
   "cell_type": "code",
   "outputs": [],
   "execution_count": null,
   "source": [
    "cycle1h, cycle2h = hae(dist_matrix, iterations=500, population=35)\n",
    "\n",
    "cycle1ls, cycle2ls = local_search_with_move_list(dist_matrix, cycle1h, cycle2h)\n",
    "\n",
    "cost = cycles_cost(dist_matrix, cycle1ls, cycle2ls)"
   ],
   "id": "c023e258ddba5d99"
  },
  {
   "metadata": {},
   "cell_type": "code",
   "outputs": [],
   "execution_count": null,
   "source": [
    "%matplotlib inline\n",
    "plot_solutions(tsp_file_name, coords, (cycle1ls, cycle2ls), cost, show=True)"
   ],
   "id": "190e26a89f1e80d5"
  }
 ],
 "metadata": {},
 "nbformat": 4,
 "nbformat_minor": 5
}
